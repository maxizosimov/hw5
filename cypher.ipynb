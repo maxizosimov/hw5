{
 "cells": [
  {
   "cell_type": "markdown",
   "metadata": {},
   "source": [
    "// Reset Query \n",
    "\n",
    "// Query to delete all edges and nodes, just using APOC to speed up process \n",
    "\n",
    "CALL apoc.periodic.iterate(  \n",
    "    \"MATCH (n) RETURN n\",  \n",
    "    \"DETACH DELETE n\",  \n",
    "    {batchSize:250}  \n",
    "    )"
   ]
  },
  {
   "cell_type": "markdown",
   "metadata": {},
   "source": [
    "// creating song nodes\n",
    "\n",
    "// loading in the data\n",
    "LOAD CSV WITH HEADERS FROM 'file:///experimentalv2_spotify.csv' AS line\n",
    "\n",
    "// only keeping relevant information to the track wanted in nodes \n",
    " \n",
    "CREATE (:Song {  \n",
    "    track_id: line.track_id,  \n",
    "    track_name: line.track_name,  \n",
    "    artists: line.artists,  \n",
    "    album_name: line.album_name,  \n",
    "    track_genre: line.track_genre  \n",
    "    })"
   ]
  },
  {
   "cell_type": "markdown",
   "metadata": {},
   "source": [
    "// creating relationships (edges)\n",
    "\n",
    "// APOC used to maximize edge count without failure  \n",
    "CALL apoc.periodic.iterate( \"LOAD CSV WITH HEADERS FROM 'file:///experimentalv2_relationships.csv' AS line RETURN line\", \"WITH line  \n",
    "\n",
    "// filtering out to only create relationships (edges) where the distance is less than the threshold  \n",
    "// to try and only capture relevant recommendations and adhearing to computers limit, set reasonable threshold -- found 0.25 for 10k nodes, 0.2 for 25k nodes \n",
    "\n",
    "WHERE toFloat(line.Distance) < $threshold  \n",
    "MATCH (song1:Song {track_id: line.SongID1})  \n",
    "MATCH (song2:Song {track_id: line.SongID2})  \n",
    "MERGE (song1)-[r:SIMILAR_TO]->(song2)  \n",
    "ON CREATE SET r.distance = toFloat(line.Distance)\",  \n",
    "// set threshold here  \n",
    "{batchSize: 200, params: {threshold: 0.2}}  \n",
    ")"
   ]
  },
  {
   "cell_type": "markdown",
   "metadata": {},
   "source": [
    "### We uploaded the pngs to the submission file, so either download and view here, or view in submission - sorry for inconvenience!\n",
    "\n",
    "<img src=\"setup.png\">"
   ]
  },
  {
   "cell_type": "markdown",
   "metadata": {},
   "source": [
    "// Algorithm - specific testing for hw5 testing with Is This It album (Query result)\n",
    "\n",
    "// get the album songs, the distances, and another song to check against  \n",
    "MATCH (albumSong:Song)-[r:SIMILAR_TO]->(otherSong:Song)\n",
    "\n",
    "// filtering to get songs from correct album, then make sure it contains The Strokes  \n",
    "// but also that the recommendation song cannot be from The Strokes  \n",
    "WHERE albumSong.album_name = \"Is This It\" AND albumSong.artists CONTAINS \"The Strokes\" AND NOT otherSong.artists = \"The Strokes\"  \n",
    "WITH albumSong, otherSong, r.distance AS similarity\n",
    "\n",
    "// limiting by 5 to get 5 recommendations and ordering the similarity score ascending to get the closest distances to 0  \n",
    "// meaning more similar  \n",
    "ORDER BY similarity ASC  \n",
    "LIMIT 5\n",
    "\n",
    "// returning the album song, the song that is similar to that album song, and the distance between the two  \n",
    "RETURN DISTINCT albumSong, similarity, otherSong"
   ]
  },
  {
   "cell_type": "markdown",
   "metadata": {},
   "source": [
    "### We uploaded the pngs to the submission file, so either download and view here, or view in submission - sorry for inconvenience!\n",
    "\n",
    "<img src=\"recommendation result.png\">"
   ]
  },
  {
   "cell_type": "markdown",
   "metadata": {},
   "source": [
    "// Run parameters first and then run query below to get recommendations for any artist, album, or specific song\n",
    "\n",
    "// Put null wherever you are not looking, so if looking for recommendations for specific song, put \"song name\" and null for other etc.  \n",
    ":param songName => null;  \n",
    ":param artist => null;  \n",
    ":param albumName => \"Is This It\";"
   ]
  },
  {
   "cell_type": "markdown",
   "metadata": {},
   "source": [
    "// General Recommendation Engine\n",
    "\n",
    "// Initialize parameters above -- retrieving parameters here  \n",
    "WITH COALESCE($songName, '') AS songName, COALESCE($artist, '') AS artist, COALESCE($albumName, '') AS albumName\n",
    "\n",
    "// matching by song  \n",
    "OPTIONAL MATCH (song:Song)  \n",
    "WHERE songName <> '' AND song.track_name = songName\n",
    "\n",
    "// matching by artist (only if no specific song was given)  \n",
    "OPTIONAL MATCH (artistSong:Song)  \n",
    "WHERE songName = '' AND artist <> '' AND artistSong.artists CONTAINS artist\n",
    "\n",
    "// matching by album (only if no specific song or artist was given)  \n",
    "OPTIONAL MATCH (albumSong:Song)  \n",
    "WHERE songName = '' AND artist = '' AND albumName <> '' AND albumSong.album_name = albumName\n",
    "\n",
    "// combine all matches and remove nulls  \n",
    "WITH COLLECT(song) + COLLECT(artistSong) + COLLECT(albumSong) AS allMatches  \n",
    "UNWIND allMatches AS matchedSong  \n",
    "WITH matchedSong WHERE matchedSong IS NOT NULL\n",
    "\n",
    "// find similar songs based on the matched songs, excluding the same artist  \n",
    "MATCH (matchedSong)-[r:SIMILAR_TO]->(otherSong:Song)  \n",
    "WHERE NOT otherSong.artists CONTAINS matchedSong.artists  \n",
    "WITH matchedSong, otherSong, r  \n",
    "\n",
    "// ordering by distance ascending to get songs with relationship distance closest to 0 (closer to 0 = more similar)  \n",
    "// and limiting by 5 as it was asked for 5 recommendations\n",
    "ORDER BY r.distance ASC  \n",
    "LIMIT 5  \n",
    "\n",
    "// returning recommended song, distance and the song which the recommendation was matched with\n",
    "RETURN DISTINCT matchedSong AS Input, r, otherSong AS RecommendedTrack"
   ]
  },
  {
   "cell_type": "markdown",
   "metadata": {},
   "source": [
    "### We uploaded the pngs to the submission file, so either download and view here, or view in submission - sorry for inconvenience!\n",
    "\n",
    "<img src=\"parameterized recommendation result.png\">"
   ]
  }
 ],
 "metadata": {
  "language_info": {
   "name": "python"
  }
 },
 "nbformat": 4,
 "nbformat_minor": 2
}
